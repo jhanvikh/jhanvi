{
  "nbformat": 4,
  "nbformat_minor": 0,
  "metadata": {
    "colab": {
      "provenance": [],
      "authorship_tag": "ABX9TyMAFM8BM/681OSsXsm6aSGq",
      "include_colab_link": true
    },
    "kernelspec": {
      "name": "python3",
      "display_name": "Python 3"
    },
    "language_info": {
      "name": "python"
    }
  },
  "cells": [
    {
      "cell_type": "markdown",
      "metadata": {
        "id": "view-in-github",
        "colab_type": "text"
      },
      "source": [
        "<a href=\"https://colab.research.google.com/github/jhanvikh/jhanvi/blob/main/Hospital_Bed_Occupancy_prediction.ipynb\" target=\"_parent\"><img src=\"https://colab.research.google.com/assets/colab-badge.svg\" alt=\"Open In Colab\"/></a>"
      ]
    },
    {
      "cell_type": "code",
      "execution_count": 2,
      "metadata": {
        "colab": {
          "base_uri": "https://localhost:8080/"
        },
        "id": "Qunxq4GmLidL",
        "outputId": "c83be8fb-8a63-4dd4-e434-961d608ba9df"
      },
      "outputs": [
        {
          "output_type": "stream",
          "name": "stdout",
          "text": [
            "Collecting mysql-connector-python\n",
            "  Downloading mysql_connector_python-9.1.0-cp310-cp310-manylinux_2_28_x86_64.whl.metadata (6.0 kB)\n",
            "Requirement already satisfied: pandas in /usr/local/lib/python3.10/dist-packages (2.2.2)\n",
            "Requirement already satisfied: matplotlib in /usr/local/lib/python3.10/dist-packages (3.8.0)\n",
            "Requirement already satisfied: scikit-learn in /usr/local/lib/python3.10/dist-packages (1.5.2)\n",
            "Requirement already satisfied: numpy>=1.22.4 in /usr/local/lib/python3.10/dist-packages (from pandas) (1.26.4)\n",
            "Requirement already satisfied: python-dateutil>=2.8.2 in /usr/local/lib/python3.10/dist-packages (from pandas) (2.8.2)\n",
            "Requirement already satisfied: pytz>=2020.1 in /usr/local/lib/python3.10/dist-packages (from pandas) (2024.2)\n",
            "Requirement already satisfied: tzdata>=2022.7 in /usr/local/lib/python3.10/dist-packages (from pandas) (2024.2)\n",
            "Requirement already satisfied: contourpy>=1.0.1 in /usr/local/lib/python3.10/dist-packages (from matplotlib) (1.3.1)\n",
            "Requirement already satisfied: cycler>=0.10 in /usr/local/lib/python3.10/dist-packages (from matplotlib) (0.12.1)\n",
            "Requirement already satisfied: fonttools>=4.22.0 in /usr/local/lib/python3.10/dist-packages (from matplotlib) (4.55.0)\n",
            "Requirement already satisfied: kiwisolver>=1.0.1 in /usr/local/lib/python3.10/dist-packages (from matplotlib) (1.4.7)\n",
            "Requirement already satisfied: packaging>=20.0 in /usr/local/lib/python3.10/dist-packages (from matplotlib) (24.2)\n",
            "Requirement already satisfied: pillow>=6.2.0 in /usr/local/lib/python3.10/dist-packages (from matplotlib) (11.0.0)\n",
            "Requirement already satisfied: pyparsing>=2.3.1 in /usr/local/lib/python3.10/dist-packages (from matplotlib) (3.2.0)\n",
            "Requirement already satisfied: scipy>=1.6.0 in /usr/local/lib/python3.10/dist-packages (from scikit-learn) (1.13.1)\n",
            "Requirement already satisfied: joblib>=1.2.0 in /usr/local/lib/python3.10/dist-packages (from scikit-learn) (1.4.2)\n",
            "Requirement already satisfied: threadpoolctl>=3.1.0 in /usr/local/lib/python3.10/dist-packages (from scikit-learn) (3.5.0)\n",
            "Requirement already satisfied: six>=1.5 in /usr/local/lib/python3.10/dist-packages (from python-dateutil>=2.8.2->pandas) (1.16.0)\n",
            "Downloading mysql_connector_python-9.1.0-cp310-cp310-manylinux_2_28_x86_64.whl (34.4 MB)\n",
            "\u001b[2K   \u001b[90m━━━━━━━━━━━━━━━━━━━━━━━━━━━━━━━━━━━━━━━━\u001b[0m \u001b[32m34.4/34.4 MB\u001b[0m \u001b[31m34.8 MB/s\u001b[0m eta \u001b[36m0:00:00\u001b[0m\n",
            "\u001b[?25hInstalling collected packages: mysql-connector-python\n",
            "Successfully installed mysql-connector-python-9.1.0\n"
          ]
        }
      ],
      "source": [
        "!pip install mysql-connector-python pandas matplotlib scikit-learn\n"
      ]
    },
    {
      "cell_type": "code",
      "source": [
        "def connect_to_db():\n",
        "    return mysql.connector.connect(\n",
        "        host=\"your-public-mysql-host\",  # e.g., AWS RDS endpoint or Google Cloud SQL IP\n",
        "        user=\"your-username\",\n",
        "        password=\"your-password\",\n",
        "        database=\"hospital_db\"\n",
        "    )\n"
      ],
      "metadata": {
        "id": "ej2Y7oRnLosA"
      },
      "execution_count": 6,
      "outputs": []
    },
    {
      "cell_type": "code",
      "source": [
        "def connect_to_db():\n",
        "    return mysql.connector.connect(\n",
        "        host=\"0.tcp.ngrok.io\",\n",
        "        port=12345,  # Replace with the port provided by Ngrok\n",
        "        user=\"your-username\",\n",
        "        password=\"your-password\",\n",
        "        database=\"hospital_db\"\n",
        "    )\n"
      ],
      "metadata": {
        "id": "yl56eu2dL9MB"
      },
      "execution_count": 8,
      "outputs": []
    },
    {
      "cell_type": "code",
      "source": [
        "!apt-get install sqlite3\n"
      ],
      "metadata": {
        "colab": {
          "base_uri": "https://localhost:8080/"
        },
        "id": "vDUHhONwMApB",
        "outputId": "8e7cb8ce-f17f-4c01-a021-a0ae3f150c70"
      },
      "execution_count": 9,
      "outputs": [
        {
          "output_type": "stream",
          "name": "stdout",
          "text": [
            "Reading package lists... Done\n",
            "Building dependency tree... Done\n",
            "Reading state information... Done\n",
            "Suggested packages:\n",
            "  sqlite3-doc\n",
            "The following NEW packages will be installed:\n",
            "  sqlite3\n",
            "0 upgraded, 1 newly installed, 0 to remove and 49 not upgraded.\n",
            "Need to get 768 kB of archives.\n",
            "After this operation, 1,873 kB of additional disk space will be used.\n",
            "Get:1 http://archive.ubuntu.com/ubuntu jammy-updates/main amd64 sqlite3 amd64 3.37.2-2ubuntu0.3 [768 kB]\n",
            "Fetched 768 kB in 1s (709 kB/s)\n",
            "Selecting previously unselected package sqlite3.\n",
            "(Reading database ... 123630 files and directories currently installed.)\n",
            "Preparing to unpack .../sqlite3_3.37.2-2ubuntu0.3_amd64.deb ...\n",
            "Unpacking sqlite3 (3.37.2-2ubuntu0.3) ...\n",
            "Setting up sqlite3 (3.37.2-2ubuntu0.3) ...\n",
            "Processing triggers for man-db (2.10.2-1) ...\n"
          ]
        }
      ]
    },
    {
      "cell_type": "code",
      "source": [
        "import sqlite3\n",
        "\n",
        "# Connect to SQLite Database\n",
        "conn = sqlite3.connect('hospital_bed_availability.db')\n",
        "cursor = conn.cursor()\n",
        "\n",
        "# Create Hospital_Wards table\n",
        "cursor.execute(\"\"\"\n",
        "    CREATE TABLE IF NOT EXISTS Hospital_Wards (\n",
        "        ward_id INTEGER PRIMARY KEY AUTOINCREMENT,\n",
        "        ward_name TEXT NOT NULL,\n",
        "        total_beds INTEGER NOT NULL,\n",
        "        specialty TEXT\n",
        "    );\n",
        "\"\"\")\n",
        "\n",
        "# Create Patients table\n",
        "cursor.execute(\"\"\"\n",
        "    CREATE TABLE IF NOT EXISTS Patients (\n",
        "        patient_id INTEGER PRIMARY KEY AUTOINCREMENT,\n",
        "        patient_name TEXT NOT NULL,\n",
        "        ward_id INTEGER,\n",
        "        admission_date TEXT NOT NULL,\n",
        "        discharge_date TEXT,\n",
        "        FOREIGN KEY (ward_id) REFERENCES Hospital_Wards(ward_id)\n",
        "    );\n",
        "\"\"\")\n",
        "\n",
        "# Create Bed_Occupancy table\n",
        "cursor.execute(\"\"\"\n",
        "    CREATE TABLE IF NOT EXISTS Bed_Occupancy (\n",
        "        occupancy_id INTEGER PRIMARY KEY AUTOINCREMENT,\n",
        "        ward_id INTEGER,\n",
        "        date TEXT NOT NULL,\n",
        "        occupied_beds INTEGER NOT NULL,\n",
        "        FOREIGN KEY (ward_id) REFERENCES Hospital_Wards(ward_id)\n",
        "    );\n",
        "\"\"\")\n",
        "\n",
        "conn.commit()\n",
        "conn.close()\n",
        "print(\"Database and tables created successfully.\")\n"
      ],
      "metadata": {
        "colab": {
          "base_uri": "https://localhost:8080/"
        },
        "id": "yaygnHR-MhnF",
        "outputId": "e2345803-926d-4a1f-a381-b18bfda820fb"
      },
      "execution_count": 11,
      "outputs": [
        {
          "output_type": "stream",
          "name": "stdout",
          "text": [
            "Database and tables created successfully.\n"
          ]
        }
      ]
    },
    {
      "cell_type": "code",
      "source": [
        "# Insert data into the database\n",
        "def insert_dummy_data():\n",
        "    conn = sqlite3.connect('hospital_bed_availability.db')\n",
        "    cursor = conn.cursor()\n",
        "\n",
        "    # Insert into Hospital_Wards\n",
        "    cursor.executemany(\"\"\"\n",
        "        INSERT INTO Hospital_Wards (ward_name, total_beds, specialty) VALUES (?, ?, ?)\n",
        "    \"\"\", [\n",
        "        ('General Medicine', 50, 'Medicine'),\n",
        "        ('ICU', 20, 'Critical Care'),\n",
        "        ('Pediatrics', 30, 'Child Care'),\n",
        "        ('Surgery', 40, 'Surgical Care')\n",
        "    ])\n",
        "\n",
        "    # Insert into Bed_Occupancy\n",
        "    cursor.executemany(\"\"\"\n",
        "        INSERT INTO Bed_Occupancy (ward_id, date, occupied_beds) VALUES (?, ?, ?)\n",
        "    \"\"\", [\n",
        "        (1, '2024-11-20', 40),\n",
        "        (2, '2024-11-20', 15),\n",
        "        (3, '2024-11-20', 20),\n",
        "        (4, '2024-11-20', 30),\n",
        "        (1, '2024-11-21', 35),\n",
        "        (2, '2024-11-21', 18)\n",
        "    ])\n",
        "\n",
        "    conn.commit()\n",
        "    conn.close()\n",
        "    print(\"Dummy data inserted successfully.\")\n",
        "\n",
        "insert_dummy_data()\n"
      ],
      "metadata": {
        "colab": {
          "base_uri": "https://localhost:8080/"
        },
        "id": "4pChahVlMh2R",
        "outputId": "8097136b-6996-4533-fcbc-f82c151b2917"
      },
      "execution_count": 12,
      "outputs": [
        {
          "output_type": "stream",
          "name": "stdout",
          "text": [
            "Dummy data inserted successfully.\n"
          ]
        }
      ]
    },
    {
      "cell_type": "code",
      "source": [
        "import pandas as pd\n",
        "\n",
        "# Fetch occupancy data\n",
        "def fetch_occupancy_data():\n",
        "    conn = sqlite3.connect('hospital_bed_availability.db')\n",
        "    query = \"\"\"\n",
        "    SELECT\n",
        "        ward_name,\n",
        "        date,\n",
        "        occupied_beds,\n",
        "        total_beds,\n",
        "        (total_beds - occupied_beds) AS available_beds\n",
        "    FROM\n",
        "        Bed_Occupancy\n",
        "    JOIN\n",
        "        Hospital_Wards ON Bed_Occupancy.ward_id = Hospital_Wards.ward_id;\n",
        "    \"\"\"\n",
        "    df = pd.read_sql_query(query, conn)\n",
        "    conn.close()\n",
        "    return df\n",
        "\n",
        "occupancy_data = fetch_occupancy_data()\n",
        "print(occupancy_data)\n"
      ],
      "metadata": {
        "colab": {
          "base_uri": "https://localhost:8080/"
        },
        "id": "21xWsLQWNAOb",
        "outputId": "9a969ca1-51b1-4ec6-c9de-165cd9117a3d"
      },
      "execution_count": 13,
      "outputs": [
        {
          "output_type": "stream",
          "name": "stdout",
          "text": [
            "          ward_name        date  occupied_beds  total_beds  available_beds\n",
            "0  General Medicine  2024-11-20             40          50              10\n",
            "1               ICU  2024-11-20             15          20               5\n",
            "2        Pediatrics  2024-11-20             20          30              10\n",
            "3           Surgery  2024-11-20             30          40              10\n",
            "4  General Medicine  2024-11-21             35          50              15\n",
            "5               ICU  2024-11-21             18          20               2\n"
          ]
        }
      ]
    },
    {
      "cell_type": "code",
      "source": [
        "from sklearn.linear_model import LinearRegression\n",
        "import numpy as np\n",
        "\n",
        "def predict_bed_occupancy(df, ward_name, days=7):\n",
        "    df = df[df['ward_name'] == ward_name]\n",
        "    df['date'] = pd.to_datetime(df['date'])\n",
        "    df['day_number'] = (df['date'] - df['date'].min()).dt.days\n",
        "\n",
        "    # Training Data\n",
        "    X = df[['day_number']]\n",
        "    y = df['occupied_beds']\n",
        "\n",
        "    # Train Linear Regression Model\n",
        "    model = LinearRegression()\n",
        "    model.fit(X, y)\n",
        "\n",
        "    # Predict for the next `days`\n",
        "    future_days = np.arange(X['day_number'].max() + 1, X['day_number'].max() + 1 + days).reshape(-1, 1)\n",
        "    predictions = model.predict(future_days)\n",
        "\n",
        "    # Create future dates\n",
        "    future_dates = [df['date'].max() + pd.Timedelta(days=i) for i in range(1, days + 1)]\n",
        "    return pd.DataFrame({'date': future_dates, 'predicted_occupied_beds': predictions})\n",
        "\n",
        "# Predict for General Medicine\n",
        "predicted_occupancy = predict_bed_occupancy(occupancy_data, 'General Medicine')\n",
        "print(predicted_occupancy)\n"
      ],
      "metadata": {
        "colab": {
          "base_uri": "https://localhost:8080/"
        },
        "id": "xI5b1DwxNDbR",
        "outputId": "25f49a13-9680-49f7-b56e-389a25d53d56"
      },
      "execution_count": 14,
      "outputs": [
        {
          "output_type": "stream",
          "name": "stdout",
          "text": [
            "        date  predicted_occupied_beds\n",
            "0 2024-11-22             3.000000e+01\n",
            "1 2024-11-23             2.500000e+01\n",
            "2 2024-11-24             2.000000e+01\n",
            "3 2024-11-25             1.500000e+01\n",
            "4 2024-11-26             1.000000e+01\n",
            "5 2024-11-27             5.000000e+00\n",
            "6 2024-11-28             1.421085e-14\n"
          ]
        },
        {
          "output_type": "stream",
          "name": "stderr",
          "text": [
            "<ipython-input-14-1dbf08c7f196>:6: SettingWithCopyWarning: \n",
            "A value is trying to be set on a copy of a slice from a DataFrame.\n",
            "Try using .loc[row_indexer,col_indexer] = value instead\n",
            "\n",
            "See the caveats in the documentation: https://pandas.pydata.org/pandas-docs/stable/user_guide/indexing.html#returning-a-view-versus-a-copy\n",
            "  df['date'] = pd.to_datetime(df['date'])\n",
            "<ipython-input-14-1dbf08c7f196>:7: SettingWithCopyWarning: \n",
            "A value is trying to be set on a copy of a slice from a DataFrame.\n",
            "Try using .loc[row_indexer,col_indexer] = value instead\n",
            "\n",
            "See the caveats in the documentation: https://pandas.pydata.org/pandas-docs/stable/user_guide/indexing.html#returning-a-view-versus-a-copy\n",
            "  df['day_number'] = (df['date'] - df['date'].min()).dt.days\n",
            "/usr/local/lib/python3.10/dist-packages/sklearn/base.py:493: UserWarning: X does not have valid feature names, but LinearRegression was fitted with feature names\n",
            "  warnings.warn(\n"
          ]
        }
      ]
    },
    {
      "cell_type": "code",
      "source": [
        "def plot_occupancy(df, predictions, ward_name):\n",
        "    plt.figure(figsize=(10, 6))\n",
        "\n",
        "    # Filter data for the specified ward\n",
        "    df = df[df['ward_name'] == ward_name]\n",
        "\n",
        "    # Ensure 'date' is in datetime format\n",
        "    df['date'] = pd.to_datetime(df['date'])\n",
        "    predictions['date'] = pd.to_datetime(predictions['date'])\n",
        "\n",
        "    # Plot Actual Data\n",
        "    plt.plot(df['date'], df['occupied_beds'], label=\"Actual Occupancy\", marker='o')\n",
        "\n",
        "    # Plot Predictions\n",
        "    plt.plot(predictions['date'], predictions['predicted_occupied_beds'], label=\"Predicted Occupancy\", linestyle='--', color='red')\n",
        "\n",
        "    # Customize Plot\n",
        "    plt.title(f\"Bed Occupancy Prediction for {ward_name}\")\n",
        "    plt.xlabel(\"Date\")\n",
        "    plt.ylabel(\"Occupied Beds\")\n",
        "    plt.legend()\n",
        "    plt.grid()\n",
        "    plt.show()\n",
        "plot_occupancy(occupancy_data, predicted_occupancy, 'General Medicine')\n",
        "\n"
      ],
      "metadata": {
        "colab": {
          "base_uri": "https://localhost:8080/",
          "height": 688
        },
        "id": "fnCMYrT0NFgh",
        "outputId": "b996bc78-7cbf-45bc-a7e4-9f59e233f708"
      },
      "execution_count": 18,
      "outputs": [
        {
          "output_type": "stream",
          "name": "stderr",
          "text": [
            "<ipython-input-18-f711a489acf4>:8: SettingWithCopyWarning: \n",
            "A value is trying to be set on a copy of a slice from a DataFrame.\n",
            "Try using .loc[row_indexer,col_indexer] = value instead\n",
            "\n",
            "See the caveats in the documentation: https://pandas.pydata.org/pandas-docs/stable/user_guide/indexing.html#returning-a-view-versus-a-copy\n",
            "  df['date'] = pd.to_datetime(df['date'])\n"
          ]
        },
        {
          "output_type": "display_data",
          "data": {
            "text/plain": [
              "<Figure size 1000x600 with 1 Axes>"
            ],
            "image/png": "[encoded data removed]"
          },
          "metadata": {}
        }
      ]
    },
    {
      "cell_type": "code",
      "source": [
        "pip install prophet\n"
      ],
      "metadata": {
        "colab": {
          "base_uri": "https://localhost:8080/"
        },
        "id": "6N7Hnbf4NJVQ",
        "outputId": "730d5e04-9da9-4ba7-dc6c-3dc186b3cf8e"
      },
      "execution_count": 32,
      "outputs": [
        {
          "output_type": "stream",
          "name": "stdout",
          "text": [
            "Requirement already satisfied: prophet in /usr/local/lib/python3.10/dist-packages (1.1.6)\n",
            "Requirement already satisfied: cmdstanpy>=1.0.4 in /usr/local/lib/python3.10/dist-packages (from prophet) (1.2.4)\n",
            "Requirement already satisfied: numpy>=1.15.4 in /usr/local/lib/python3.10/dist-packages (from prophet) (1.26.4)\n",
            "Requirement already satisfied: matplotlib>=2.0.0 in /usr/local/lib/python3.10/dist-packages (from prophet) (3.8.0)\n",
            "Requirement already satisfied: pandas>=1.0.4 in /usr/local/lib/python3.10/dist-packages (from prophet) (2.2.2)\n",
            "Requirement already satisfied: holidays<1,>=0.25 in /usr/local/lib/python3.10/dist-packages (from prophet) (0.61)\n",
            "Requirement already satisfied: tqdm>=4.36.1 in /usr/local/lib/python3.10/dist-packages (from prophet) (4.66.6)\n",
            "Requirement already satisfied: importlib-resources in /usr/local/lib/python3.10/dist-packages (from prophet) (6.4.5)\n",
            "Requirement already satisfied: stanio<2.0.0,>=0.4.0 in /usr/local/lib/python3.10/dist-packages (from cmdstanpy>=1.0.4->prophet) (0.5.1)\n",
            "Requirement already satisfied: python-dateutil in /usr/local/lib/python3.10/dist-packages (from holidays<1,>=0.25->prophet) (2.8.2)\n",
            "Requirement already satisfied: contourpy>=1.0.1 in /usr/local/lib/python3.10/dist-packages (from matplotlib>=2.0.0->prophet) (1.3.1)\n",
            "Requirement already satisfied: cycler>=0.10 in /usr/local/lib/python3.10/dist-packages (from matplotlib>=2.0.0->prophet) (0.12.1)\n",
            "Requirement already satisfied: fonttools>=4.22.0 in /usr/local/lib/python3.10/dist-packages (from matplotlib>=2.0.0->prophet) (4.55.0)\n",
            "Requirement already satisfied: kiwisolver>=1.0.1 in /usr/local/lib/python3.10/dist-packages (from matplotlib>=2.0.0->prophet) (1.4.7)\n",
            "Requirement already satisfied: packaging>=20.0 in /usr/local/lib/python3.10/dist-packages (from matplotlib>=2.0.0->prophet) (24.2)\n",
            "Requirement already satisfied: pillow>=6.2.0 in /usr/local/lib/python3.10/dist-packages (from matplotlib>=2.0.0->prophet) (11.0.0)\n",
            "Requirement already satisfied: pyparsing>=2.3.1 in /usr/local/lib/python3.10/dist-packages (from matplotlib>=2.0.0->prophet) (3.2.0)\n",
            "Requirement already satisfied: pytz>=2020.1 in /usr/local/lib/python3.10/dist-packages (from pandas>=1.0.4->prophet) (2024.2)\n",
            "Requirement already satisfied: tzdata>=2022.7 in /usr/local/lib/python3.10/dist-packages (from pandas>=1.0.4->prophet) (2024.2)\n",
            "Requirement already satisfied: six>=1.5 in /usr/local/lib/python3.10/dist-packages (from python-dateutil->holidays<1,>=0.25->prophet) (1.16.0)\n"
          ]
        }
      ]
    },
    {
      "cell_type": "code",
      "source": [
        "from prophet import Prophet\n",
        "\n",
        "def time_series_forecasting(df, ward_name):\n",
        "    # Filter Data for the Selected Ward\n",
        "    df = df[df['ward_name'] == ward_name][['date', 'occupied_beds']].rename(columns={\"date\": \"ds\", \"occupied_beds\": \"y\"})\n",
        "\n",
        "    # Train Prophet Model\n",
        "    model = Prophet()\n",
        "    model.fit(df)\n",
        "\n",
        "    # Forecast for the Next 7 Days\n",
        "    future = model.make_future_dataframe(periods=7)\n",
        "    forecast = model.predict(future)\n",
        "    return forecast[['ds', 'yhat']]\n",
        "\n",
        "# Example usage:\n",
        "forecast = time_series_forecasting(occupancy_data, \"General Medicine\")\n",
        "print(forecast)\n"
      ],
      "metadata": {
        "colab": {
          "base_uri": "https://localhost:8080/"
        },
        "id": "yithZs2HP2Gc",
        "outputId": "cc7e5ff7-7a77-4c8b-8aa2-a6128a6167a7"
      },
      "execution_count": 33,
      "outputs": [
        {
          "output_type": "stream",
          "name": "stderr",
          "text": [
            "INFO:prophet:Disabling yearly seasonality. Run prophet with yearly_seasonality=True to override this.\n",
            "INFO:prophet:Disabling weekly seasonality. Run prophet with weekly_seasonality=True to override this.\n",
            "INFO:prophet:Disabling daily seasonality. Run prophet with daily_seasonality=True to override this.\n",
            "INFO:prophet:n_changepoints greater than number of observations. Using 0.\n",
            "DEBUG:cmdstanpy:input tempfile: /tmp/tmpgcc6m86l/e_7nm4_j.json\n",
            "DEBUG:cmdstanpy:input tempfile: /tmp/tmpgcc6m86l/sryb83ao.json\n",
            "DEBUG:cmdstanpy:idx 0\n",
            "DEBUG:cmdstanpy:running CmdStan, num_threads: None\n",
            "DEBUG:cmdstanpy:CmdStan args: ['/usr/local/lib/python3.10/dist-packages/prophet/stan_model/prophet_model.bin', 'random', 'seed=18076', 'data', 'file=/tmp/tmpgcc6m86l/e_7nm4_j.json', 'init=/tmp/tmpgcc6m86l/sryb83ao.json', 'output', 'file=/tmp/tmpgcc6m86l/prophet_modelud37phz5/prophet_model-20241125074519.csv', 'method=optimize', 'algorithm=newton', 'iter=10000']\n",
            "07:45:19 - cmdstanpy - INFO - Chain [1] start processing\n",
            "INFO:cmdstanpy:Chain [1] start processing\n",
            "07:45:25 - cmdstanpy - INFO - Chain [1] done processing\n",
            "INFO:cmdstanpy:Chain [1] done processing\n"
          ]
        },
        {
          "output_type": "stream",
          "name": "stdout",
          "text": [
            "          ds       yhat\n",
            "0 2024-11-20  40.000000\n",
            "1 2024-11-21  34.999982\n",
            "2 2024-11-22  29.999964\n",
            "3 2024-11-23  24.999945\n",
            "4 2024-11-24  19.999927\n",
            "5 2024-11-25  14.999909\n",
            "6 2024-11-26   9.999891\n",
            "7 2024-11-27   4.999873\n",
            "8 2024-11-28  -0.000146\n"
          ]
        }
      ]
    },
    {
      "cell_type": "code",
      "source": [
        "import pandas as pd\n",
        "from sklearn.linear_model import LinearRegression\n",
        "from sklearn.ensemble import RandomForestRegressor\n",
        "from sklearn.metrics import mean_absolute_error, mean_squared_error, r2_score\n",
        "from sklearn.model_selection import train_test_split\n",
        "import xgboost as xgb\n",
        "import numpy as np\n",
        "\n",
        "# Assuming your dataset is loaded into 'occupancy_data'\n",
        "# Make sure 'date' column is in datetime format\n",
        "occupancy_data['date'] = pd.to_datetime(occupancy_data['date'])\n",
        "\n",
        "# Create the 'day_number' column based on the date\n",
        "min_date = occupancy_data['date'].min()\n",
        "occupancy_data['day_number'] = (occupancy_data['date'] - min_date).dt.days\n",
        "\n",
        "# Model evaluation function\n",
        "def evaluate_models(df, target_column='occupied_beds', features_columns=['day_number']):\n",
        "    X = df[features_columns]\n",
        "    y = df[target_column]\n",
        "\n",
        "    # Train-test split\n",
        "    X_train, X_test, y_train, y_test = train_test_split(X, y, test_size=0.2, random_state=42)\n",
        "\n",
        "    models = {\n",
        "        \"Linear Regression\": LinearRegression(),\n",
        "        \"Random Forest\": RandomForestRegressor(n_estimators=100, random_state=42),\n",
        "        \"XGBoost\": xgb.XGBRegressor(objective=\"reg:squarederror\", random_state=42)\n",
        "    }\n",
        "\n",
        "    results = {}\n",
        "\n",
        "    # Train and evaluate each model\n",
        "    for name, model in models.items():\n",
        "        model.fit(X_train, y_train)\n",
        "        y_pred = model.predict(X_test)\n",
        "\n",
        "        # Calculate evaluation metrics\n",
        "        mae = mean_absolute_error(y_test, y_pred)\n",
        "        rmse = mean_squared_error(y_test, y_pred, squared=False)\n",
        "        r2 = r2_score(y_test, y_pred)\n",
        "\n",
        "        # Store results\n",
        "        results[name] = {\n",
        "            \"MAE\": mae,\n",
        "            \"RMSE\": rmse,\n",
        "            \"R²\": r2\n",
        "        }\n",
        "\n",
        "    # Print out results for each model\n",
        "    for model_name, metrics in results.items():\n",
        "        print(f\"Model: {model_name}\")\n",
        "        print(f\"  MAE: {metrics['MAE']:.2f}\")\n",
        "        print(f\"  RMSE: {metrics['RMSE']:.2f}\")\n",
        "        print(f\"  R²: {metrics['R²']:.2f}\\n\")\n",
        "\n",
        "    return results\n",
        "\n",
        "# Example usage\n",
        "results = evaluate_models(occupancy_data, target_column='occupied_beds', features_columns=['day_number'])\n"
      ],
      "metadata": {
        "colab": {
          "base_uri": "https://localhost:8080/"
        },
        "id": "kkH4PNE-SCKX",
        "outputId": "906ec209-ae74-47cf-e02d-d7193163e017"
      },
      "execution_count": 35,
      "outputs": [
        {
          "output_type": "stream",
          "name": "stderr",
          "text": [
            "/usr/local/lib/python3.10/dist-packages/sklearn/metrics/_regression.py:492: FutureWarning: 'squared' is deprecated in version 1.4 and will be removed in 1.6. To calculate the root mean squared error, use the function'root_mean_squared_error'.\n",
            "  warnings.warn(\n",
            "/usr/local/lib/python3.10/dist-packages/sklearn/metrics/_regression.py:492: FutureWarning: 'squared' is deprecated in version 1.4 and will be removed in 1.6. To calculate the root mean squared error, use the function'root_mean_squared_error'.\n",
            "  warnings.warn(\n"
          ]
        },
        {
          "output_type": "stream",
          "name": "stdout",
          "text": [
            "Model: Linear Regression\n",
            "  MAE: 12.50\n",
            "  RMSE: 12.75\n",
            "  R²: -0.04\n",
            "\n",
            "Model: Random Forest\n",
            "  MAE: 12.50\n",
            "  RMSE: 12.68\n",
            "  R²: -0.03\n",
            "\n",
            "Model: XGBoost\n",
            "  MAE: 12.50\n",
            "  RMSE: 12.75\n",
            "  R²: -0.04\n",
            "\n"
          ]
        },
        {
          "output_type": "stream",
          "name": "stderr",
          "text": [
            "/usr/local/lib/python3.10/dist-packages/sklearn/metrics/_regression.py:492: FutureWarning: 'squared' is deprecated in version 1.4 and will be removed in 1.6. To calculate the root mean squared error, use the function'root_mean_squared_error'.\n",
            "  warnings.warn(\n"
          ]
        }
      ]
    },
    {
      "cell_type": "code",
      "source": [
        "from sklearn.metrics import mean_absolute_error, root_mean_squared_error, r2_score\n",
        "\n",
        "def evaluate_models(df, target_column='occupied_beds', features_columns=['day_number']):\n",
        "    X = df[features_columns]\n",
        "    y = df[target_column]\n",
        "\n",
        "    X_train, X_test, y_train, y_test = train_test_split(X, y, test_size=0.2, random_state=42)\n",
        "\n",
        "    models = {\n",
        "        \"Linear Regression\": LinearRegression(),\n",
        "        \"Random Forest\": RandomForestRegressor(n_estimators=100, random_state=42),\n",
        "        \"XGBoost\": xgb.XGBRegressor(objective=\"reg:squarederror\", random_state=42)\n",
        "    }\n",
        "\n",
        "    results = {}\n",
        "\n",
        "    for name, model in models.items():\n",
        "        model.fit(X_train, y_train)\n",
        "        y_pred = model.predict(X_test)\n",
        "\n",
        "        mae = mean_absolute_error(y_test, y_pred)\n",
        "        rmse = root_mean_squared_error(y_test, y_pred)  # Updated to use root_mean_squared_error\n",
        "        r2 = r2_score(y_test, y_pred)\n",
        "\n",
        "        results[name] = {\n",
        "            \"MAE\": mae,\n",
        "            \"RMSE\": rmse,\n",
        "            \"R²\": r2\n",
        "        }\n",
        "\n",
        "    # Print out results for each model\n",
        "    for model_name, metrics in results.items():\n",
        "        print(f\"Model: {model_name}\")\n",
        "        print(f\"  MAE: {metrics['MAE']:.2f}\")\n",
        "        print(f\"  RMSE: {metrics['RMSE']:.2f}\")\n",
        "        print(f\"  R²: {metrics['R²']:.2f}\\n\")\n",
        "\n",
        "    return results\n",
        "\n",
        "# Example usage\n",
        "results = evaluate_models(occupancy_data, target_column='occupied_beds', features_columns=['day_number'])\n"
      ],
      "metadata": {
        "colab": {
          "base_uri": "https://localhost:8080/"
        },
        "id": "-qOXrAHnS9KO",
        "outputId": "07fc53a0-4be2-40ba-aa5d-981e7e16ad91"
      },
      "execution_count": 36,
      "outputs": [
        {
          "output_type": "stream",
          "name": "stdout",
          "text": [
            "Model: Linear Regression\n",
            "  MAE: 12.50\n",
            "  RMSE: 12.75\n",
            "  R²: -0.04\n",
            "\n",
            "Model: Random Forest\n",
            "  MAE: 12.50\n",
            "  RMSE: 12.68\n",
            "  R²: -0.03\n",
            "\n",
            "Model: XGBoost\n",
            "  MAE: 12.50\n",
            "  RMSE: 12.75\n",
            "  R²: -0.04\n",
            "\n"
          ]
        }
      ]
    }
  ]
}